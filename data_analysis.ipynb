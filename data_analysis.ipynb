{
 "cells": [
  {
   "cell_type": "code",
   "execution_count": 3,
   "id": "d4719164",
   "metadata": {},
   "outputs": [],
   "source": [
    "import pandas as pd\n",
    "\n",
    "df = pd.read_csv(\"simulation_results.csv\")\n",
    "%matplotlib inline"
   ]
  },
  {
   "cell_type": "code",
   "execution_count": null,
   "id": "48e9ce2b",
   "metadata": {},
   "outputs": [],
   "source": []
  },
  {
   "cell_type": "code",
   "execution_count": null,
   "id": "c69de8f0",
   "metadata": {},
   "outputs": [
    {
     "data": {
      "text/html": [
       "<div>\n",
       "<style scoped>\n",
       "    .dataframe tbody tr th:only-of-type {\n",
       "        vertical-align: middle;\n",
       "    }\n",
       "\n",
       "    .dataframe tbody tr th {\n",
       "        vertical-align: top;\n",
       "    }\n",
       "\n",
       "    .dataframe thead th {\n",
       "        text-align: right;\n",
       "    }\n",
       "</style>\n",
       "<table border=\"1\" class=\"dataframe\">\n",
       "  <thead>\n",
       "    <tr style=\"text-align: right;\">\n",
       "      <th></th>\n",
       "      <th>filename</th>\n",
       "      <th>mean_solve_time</th>\n",
       "      <th>median_solve_time</th>\n",
       "      <th>max_solve_time</th>\n",
       "      <th>min_solve_time</th>\n",
       "      <th>solve_success_rate</th>\n",
       "      <th>collisions</th>\n",
       "      <th>time_in_fov</th>\n",
       "      <th>prediction_times</th>\n",
       "    </tr>\n",
       "  </thead>\n",
       "  <tbody>\n",
       "    <tr>\n",
       "      <th>0</th>\n",
       "      <td>target-HOhkFmK.csv</td>\n",
       "      <td>0.064289</td>\n",
       "      <td>0.058412</td>\n",
       "      <td>0.353596</td>\n",
       "      <td>0.047807</td>\n",
       "      <td>1.000000</td>\n",
       "      <td>True</td>\n",
       "      <td>20.4</td>\n",
       "      <td>0.017693</td>\n",
       "    </tr>\n",
       "    <tr>\n",
       "      <th>1</th>\n",
       "      <td>target-NLeAsSR.csv</td>\n",
       "      <td>0.078831</td>\n",
       "      <td>0.074375</td>\n",
       "      <td>1.184692</td>\n",
       "      <td>0.033817</td>\n",
       "      <td>0.996124</td>\n",
       "      <td>False</td>\n",
       "      <td>23.2</td>\n",
       "      <td>0.018521</td>\n",
       "    </tr>\n",
       "    <tr>\n",
       "      <th>2</th>\n",
       "      <td>target-DhqMuqq.csv</td>\n",
       "      <td>0.065968</td>\n",
       "      <td>0.058365</td>\n",
       "      <td>1.144637</td>\n",
       "      <td>0.047898</td>\n",
       "      <td>0.996970</td>\n",
       "      <td>False</td>\n",
       "      <td>31.0</td>\n",
       "      <td>0.012385</td>\n",
       "    </tr>\n",
       "    <tr>\n",
       "      <th>3</th>\n",
       "      <td>target-QtLxlXa.csv</td>\n",
       "      <td>0.057591</td>\n",
       "      <td>0.054786</td>\n",
       "      <td>0.118796</td>\n",
       "      <td>0.047864</td>\n",
       "      <td>1.000000</td>\n",
       "      <td>False</td>\n",
       "      <td>16.9</td>\n",
       "      <td>0.020472</td>\n",
       "    </tr>\n",
       "    <tr>\n",
       "      <th>4</th>\n",
       "      <td>target-vggNRht.csv</td>\n",
       "      <td>0.067903</td>\n",
       "      <td>0.072978</td>\n",
       "      <td>0.100887</td>\n",
       "      <td>0.032911</td>\n",
       "      <td>1.000000</td>\n",
       "      <td>False</td>\n",
       "      <td>8.0</td>\n",
       "      <td>0.017909</td>\n",
       "    </tr>\n",
       "  </tbody>\n",
       "</table>\n",
       "</div>"
      ],
      "text/plain": [
       "             filename  mean_solve_time  median_solve_time  max_solve_time  \\\n",
       "0  target-HOhkFmK.csv         0.064289           0.058412        0.353596   \n",
       "1  target-NLeAsSR.csv         0.078831           0.074375        1.184692   \n",
       "2  target-DhqMuqq.csv         0.065968           0.058365        1.144637   \n",
       "3  target-QtLxlXa.csv         0.057591           0.054786        0.118796   \n",
       "4  target-vggNRht.csv         0.067903           0.072978        0.100887   \n",
       "\n",
       "   min_solve_time  solve_success_rate  collisions  time_in_fov  \\\n",
       "0        0.047807            1.000000        True         20.4   \n",
       "1        0.033817            0.996124       False         23.2   \n",
       "2        0.047898            0.996970       False         31.0   \n",
       "3        0.047864            1.000000       False         16.9   \n",
       "4        0.032911            1.000000       False          8.0   \n",
       "\n",
       "   prediction_times  \n",
       "0          0.017693  \n",
       "1          0.018521  \n",
       "2          0.012385  \n",
       "3          0.020472  \n",
       "4          0.017909  "
      ]
     },
     "execution_count": 4,
     "metadata": {},
     "output_type": "execute_result"
    }
   ],
   "source": []
  },
  {
   "cell_type": "code",
   "execution_count": 7,
   "id": "48a58341",
   "metadata": {},
   "outputs": [
    {
     "data": {
      "text/plain": [
       "<Axes: >"
      ]
     },
     "execution_count": 7,
     "metadata": {},
     "output_type": "execute_result"
    },
    {
     "data": {
      "image/png": "[encoded data removed]",
      "text/plain": [
       "<Figure size 640x480 with 1 Axes>"
      ]
     },
     "metadata": {},
     "output_type": "display_data"
    }
   ],
   "source": [
    "df[\"mean_solve_time\"].hist()"
   ]
  },
  {
   "cell_type": "code",
   "execution_count": 11,
   "id": "4c4233e4",
   "metadata": {},
   "outputs": [
    {
     "name": "stdout",
     "output_type": "stream",
     "text": [
      "0.07208930906848 +/- 0.023648367753928003\n"
     ]
    }
   ],
   "source": [
    "std_solve = df[\"mean_solve_time\"].std()\n",
    "mean_solve = df[\"mean_solve_time\"].mean()\n",
    "\n",
    "print(f\"{mean_solve} +/- {std_solve}\")"
   ]
  },
  {
   "cell_type": "code",
   "execution_count": 15,
   "id": "541e8d67",
   "metadata": {},
   "outputs": [
    {
     "name": "stdout",
     "output_type": "stream",
     "text": [
      "0.01726978970598164\n",
      "0.05481951936249836\n"
     ]
    }
   ],
   "source": [
    "mean_prediction_time = df[\"prediction_times\"].mean()\n",
    "print(mean_prediction_time)\n",
    "\n",
    "pure_solve = mean_solve - mean_prediction_time\n",
    "\n",
    "print(pure_solve)"
   ]
  },
  {
   "cell_type": "code",
   "execution_count": 8,
   "id": "5cfedfdd",
   "metadata": {},
   "outputs": [
    {
     "data": {
      "text/plain": [
       "<Axes: >"
      ]
     },
     "execution_count": 8,
     "metadata": {},
     "output_type": "execute_result"
    },
    {
     "data": {
      "image/png": "[encoded data removed]",
      "text/plain": [
       "<Figure size 640x480 with 1 Axes>"
      ]
     },
     "metadata": {},
     "output_type": "display_data"
    }
   ],
   "source": [
    "df[\"median_solve_time\"].hist()"
   ]
  }
 ],
 "metadata": {
  "kernelspec": {
   "display_name": "env",
   "language": "python",
   "name": "python3"
  },
  "language_info": {
   "codemirror_mode": {
    "name": "ipython",
    "version": 3
   },
   "file_extension": ".py",
   "mimetype": "text/x-python",
   "name": "python",
   "nbconvert_exporter": "python",
   "pygments_lexer": "ipython3",
   "version": "3.11.13"
  }
 },
 "nbformat": 4,
 "nbformat_minor": 5
}
